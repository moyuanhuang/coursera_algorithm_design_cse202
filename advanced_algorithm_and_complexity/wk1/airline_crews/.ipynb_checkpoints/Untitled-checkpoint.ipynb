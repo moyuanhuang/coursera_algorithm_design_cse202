{
 "cells": [
  {
   "cell_type": "code",
   "execution_count": 11,
   "metadata": {
    "collapsed": true
   },
   "outputs": [],
   "source": [
    "import numpy as np"
   ]
  },
  {
   "cell_type": "code",
   "execution_count": 16,
   "metadata": {
    "collapsed": false
   },
   "outputs": [
    {
     "name": "stdout",
     "output_type": "stream",
     "text": [
      "[[0 0 0 ..., 1 1 0]\n",
      " [1 1 0 ..., 0 0 1]\n",
      " [0 0 1 ..., 0 1 1]\n",
      " ..., \n",
      " [1 0 1 ..., 1 0 1]\n",
      " [0 1 0 ..., 0 0 0]\n",
      " [0 0 1 ..., 1 0 0]] (100, 100)\n"
     ]
    }
   ],
   "source": [
    "f = open(\"./tests/02\", \"r\")\n",
    "mat = []\n",
    "for line in f:\n",
    "    l = line.split()\n",
    "    if(len(l) < 100): continue\n",
    "    l = [int(n) for n in l]\n",
    "    mat.append(l)\n",
    "arr = np.array(mat)\n",
    "print(arr, arr.shape)"
   ]
  },
  {
   "cell_type": "code",
   "execution_count": 29,
   "metadata": {
    "collapsed": false
   },
   "outputs": [],
   "source": [
    "ans = \"86 89 43 78 44 82 100 73 74 68 96 69 84 92 45 76 29 81 53 66 41 91 58 85 72 99 62 88 70 87 39 60 90 67 97 61 56 57 28 94 93 98 64 46 65 80 47 18 63 50 83 79 77 52 71 95 51 27 42 24 40 48 14 19 26 55 59 75 35 13 6 16 25 7 37 49 32 10 17 54 36 31 34 30 21 8 38 23 15 11 9 22 33 2 20 12 4 1 5 3\"\n",
    "nums = [int(n) for n in ans.split()]\n",
    "for i, n in enumerate(nums):\n",
    "    try:\n",
    "        assert(arr[i][n-1] == 1)\n",
    "    except AssertionError:\n",
    "        print(i, n-1)"
   ]
  },
  {
   "cell_type": "code",
   "execution_count": 31,
   "metadata": {
    "collapsed": false
   },
   "outputs": [
    {
     "name": "stdout",
     "output_type": "stream",
     "text": [
      "0 1\n",
      "1 98\n",
      "7 9\n",
      "9 10\n",
      "13 16\n",
      "14 13\n",
      "15 14\n",
      "16 18\n",
      "17 20\n",
      "34 31\n",
      "38 44\n",
      "39 38\n",
      "40 37\n",
      "41 40\n",
      "45 43\n",
      "47 46\n",
      "48 49\n",
      "51 50\n",
      "58 63\n",
      "60 58\n",
      "62 60\n",
      "64 66\n",
      "66 69\n",
      "67 64\n",
      "73 75\n",
      "76 73\n",
      "81 82\n",
      "83 87\n",
      "84 83\n",
      "88 89\n",
      "89 92\n",
      "92 93\n",
      "93 88\n",
      "98 2\n",
      "99 3\n"
     ]
    }
   ],
   "source": [
    "my_ans = \"4 1 99 100 5 6 7 11 9 8 10 12 13 15 16 22 14 19 17 23 18 21 20 24 26 25 28 27 34 30 33 35 31 29 36 38 32 41 40 37 42 43 44 46 39 47 48 45 51 49 52 53 50 54 57 56 55 58 61 60 63 62 64 59 68 66 65 71 70 67 72 69 75 77 73 74 76 78 79 80 81 88 82 85 83 86 87 84 94 89 92 91 90 93 95 96 97 98 2 3\"\n",
    "my_nums = [int(n) for n in my_ans.split()]\n",
    "for i, n in enumerate(my_nums):\n",
    "    try:\n",
    "        assert(arr[i][n-1] == 1)\n",
    "    except AssertionError:\n",
    "        print(i, n-1)"
   ]
  },
  {
   "cell_type": "code",
   "execution_count": null,
   "metadata": {
    "collapsed": true
   },
   "outputs": [],
   "source": []
  }
 ],
 "metadata": {
  "kernelspec": {
   "display_name": "Python 3",
   "language": "python",
   "name": "python3"
  },
  "language_info": {
   "codemirror_mode": {
    "name": "ipython",
    "version": 3
   },
   "file_extension": ".py",
   "mimetype": "text/x-python",
   "name": "python",
   "nbconvert_exporter": "python",
   "pygments_lexer": "ipython3",
   "version": "3.6.0"
  }
 },
 "nbformat": 4,
 "nbformat_minor": 2
}
